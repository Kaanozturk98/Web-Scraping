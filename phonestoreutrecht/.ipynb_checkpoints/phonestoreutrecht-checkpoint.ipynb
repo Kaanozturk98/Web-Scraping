{
 "cells": [
  {
   "cell_type": "code",
   "execution_count": 1,
   "metadata": {},
   "outputs": [],
   "source": [
    "from selenium import webdriver\n",
    "import time\n",
    "import pandas as pd\n",
    "import operator"
   ]
  },
  {
   "cell_type": "code",
   "execution_count": 2,
   "metadata": {},
   "outputs": [],
   "source": [
    "chrome_path = r\"C:\\Users\\saxou\\Desktop\\PYTHON HACK\\Web Scrapping\\chromedriver_win32 (1)\\chromedriver.exe\"\n",
    "driver = webdriver.Chrome(chrome_path)"
   ]
  },
  {
   "cell_type": "code",
   "execution_count": 3,
   "metadata": {},
   "outputs": [],
   "source": [
    "file2 = open('models.txt','r')\n",
    "model_names = set([x.replace('\\n','') for x in file2.readlines()])\n",
    "brands_txt = set(['google','huawei','nokia','samsung','ulefone','meizu','apple','wileyfox','wiko','motorola','xiaomi','cat','crosscall','doro','alcatel','asus','fairphone','land-rover','ruggear','gigaset','honor','lg','oneplus','oppo','ruggear','sony','renewd'])\n",
    "colors_txt = set(['space grey','prism','green','gold','purple','ceramic black','prism white','space gray','goud','rose gold','midnight green','keramisch','silver','wit','zilver','rose gold','grijs','rood','black','yellow','white','red','magenta','cyan','zwart','groen','blauw','paars','rosé goud','geel','oranje','brons','bruin','roze'])"
   ]
  },
  {
   "cell_type": "code",
   "execution_count": 14,
   "metadata": {},
   "outputs": [],
   "source": [
    "driver.get(\"https://phonestoreutrecht.nl/product-categorie/smartphones/apple/\")\n",
    "time.sleep(1)"
   ]
  },
  {
   "cell_type": "code",
   "execution_count": 61,
   "metadata": {},
   "outputs": [],
   "source": [
    "products = driver.find_elements_by_class_name(\"product\")\n",
    "price_PE = driver.find_elements_by_class_name(\"price\")\n",
    "\n",
    "titles=[]\n",
    "titles_arr=[]\n",
    "prices=[]\n",
    "hrefs=[]\n",
    "storages=[]\n",
    "\n",
    "for p in products:\n",
    "    title = p.find_element_by_class_name(\"entry-title\")\n",
    "    title_arr = title.text.split()\n",
    "    titles.append(title)\n",
    "    titles_arr.append(title.text.split())\n",
    "    name = title.text\n",
    "    if \"GB\" in name:\n",
    "        for el in title_arr:\n",
    "            if \"GB\" in el:\n",
    "                storages.append(title_arr[title_arr.index(el)])\n",
    "                #print(title_arr[title_arr.index(el)])\n",
    "    elif \"gb\" in name:\n",
    "        for el in title_arr:\n",
    "            if \"gb\" in el:\n",
    "                storages.append(title_arr[title_arr.index(el)])\n",
    "                #print(title_arr[title_arr.index(el)])                       \n",
    "    elif \"Gb\" in name:\n",
    "        for el in title_arr:\n",
    "            if \"Gb\" in el:\n",
    "                storages.append(title_arr[title_arr.index(el)])\n",
    "                #print(title_arr[title_arr.index(el)])\n",
    "\n",
    "    elif \"TB\" in name:\n",
    "        for el in title_arr:\n",
    "            if \"TB\" in el:\n",
    "                storages.append(title_arr[title_arr.index(el)])\n",
    "                #print(title_arr[title_arr.index(el)])\n",
    "    elif \"tb\" in name:\n",
    "        for el in title_arr:\n",
    "            if \"tb\" in el:\n",
    "                storages.append(title_arr[title_arr.index(el)])\n",
    "                #print(title_arr[title_arr.index(el)])                      \n",
    "    elif \"Tb\" in name:\n",
    "        for el in title_arr:\n",
    "            if \"Tb\" in el:\n",
    "                storages.append(title_arr[title_arr.index(el)])\n",
    "                #print(title_arr[title_arr.index(el)])\n",
    "\n",
    "    elif \"MB\" in name:\n",
    "        for el in title_arr:\n",
    "            if \"MB\" in el:\n",
    "                storages.append(title_arr[title_arr.index(el)])\n",
    "                #print(title_arr[title_arr.index(el)])\n",
    "    elif \"mb\" in name:\n",
    "        for el in title_arr:\n",
    "            if \"mb\" in el:\n",
    "                storages.append(title_arr[title_arr.index(el)])\n",
    "                #print(title_arr[title_arr.index(el)])\n",
    "    elif \"Mb\" in name:\n",
    "        for el in title_arr:\n",
    "            if \"Mb\" in el:\n",
    "                storages.append(title_arr[title_arr.index(el)])\n",
    "                #print(title_arr[title_arr.index(el)])\n",
    "    else:\n",
    "        #print(\"bok\")\n",
    "        storages.append(\"-\")        \n",
    "\n",
    "    \n",
    "for p in price_PE:\n",
    "    #print(p.text.split())\n",
    "    if len(p.text.split())==2:\n",
    "        prices.append(p.text.split()[1])\n",
    "    elif len(p.text.split()) ==1:\n",
    "        prices.append(p.text.split()[0])\n",
    "    \n",
    "for t in titles:\n",
    "    href_el = t.find_element_by_css_selector(\"a\")\n",
    "    href = href_el.get_attribute(\"href\")\n",
    "    hrefs.append(href)"
   ]
  },
  {
   "cell_type": "code",
   "execution_count": 62,
   "metadata": {},
   "outputs": [
    {
     "name": "stdout",
     "output_type": "stream",
     "text": [
      "renk\n",
      "model\n"
     ]
    }
   ],
   "source": [
    "models=[]\n",
    "colors=[]\n",
    "for title in titles:\n",
    "    title=title.text.lower()\n",
    "    tmp = {}\n",
    "    for clr in colors_txt:\n",
    "        #print(clr)\n",
    "        if clr in title:\n",
    "            tmp[clr] = len(clr)\n",
    "    try:\n",
    "        colors.append(max(tmp.items(), key=operator.itemgetter(1))[0])\n",
    "        #print(max(tmp.items(), key=operator.itemgetter(1))[0])\n",
    "    except:\n",
    "        print(\"renk\")\n",
    "        colors.append(\"-\")\n",
    "        \n",
    "for title in titles:\n",
    "    title=title.text.lower()\n",
    "    tmp = {}\n",
    "    for mdl in model_names:\n",
    "        #print(mdl)\n",
    "        if mdl.lower() in title:\n",
    "            tmp[mdl] = len(mdl)\n",
    "    try:\n",
    "        models.append(max(tmp.items(), key=operator.itemgetter(1))[0])\n",
    "        #print(\"yrk\")\n",
    "    except:\n",
    "        print(\"model\")\n",
    "        models.append(\"-\")"
   ]
  },
  {
   "cell_type": "code",
   "execution_count": 69,
   "metadata": {},
   "outputs": [],
   "source": [
    "brands=[]\n",
    "for elem in titles_arr:\n",
    "    if \"Iphone\" in elem:\n",
    "        brands.append(\"Apple\")\n",
    "    else:\n",
    "        brands.append(elem[0])"
   ]
  },
  {
   "cell_type": "code",
   "execution_count": 70,
   "metadata": {},
   "outputs": [
    {
     "data": {
      "text/plain": [
       "21"
      ]
     },
     "execution_count": 70,
     "metadata": {},
     "output_type": "execute_result"
    }
   ],
   "source": [
    "len(brands)"
   ]
  },
  {
   "cell_type": "code",
   "execution_count": 65,
   "metadata": {},
   "outputs": [
    {
     "ename": "ValueError",
     "evalue": "Length of values does not match length of index",
     "output_type": "error",
     "traceback": [
      "\u001b[1;31m---------------------------------------------------------------------------\u001b[0m",
      "\u001b[1;31mValueError\u001b[0m                                Traceback (most recent call last)",
      "\u001b[1;32m<ipython-input-65-9c485b8ea7d2>\u001b[0m in \u001b[0;36m<module>\u001b[1;34m\u001b[0m\n\u001b[0;32m      1\u001b[0m \u001b[0mall_df\u001b[0m \u001b[1;33m=\u001b[0m \u001b[0mpd\u001b[0m\u001b[1;33m.\u001b[0m\u001b[0mDataFrame\u001b[0m\u001b[1;33m(\u001b[0m\u001b[0mcolumns\u001b[0m\u001b[1;33m=\u001b[0m\u001b[1;33m[\u001b[0m\u001b[1;34m'Brand'\u001b[0m\u001b[1;33m,\u001b[0m\u001b[1;34m'Price'\u001b[0m\u001b[1;33m,\u001b[0m\u001b[1;34m'Storage'\u001b[0m\u001b[1;33m,\u001b[0m\u001b[1;34m\"Link\"\u001b[0m\u001b[1;33m,\u001b[0m\u001b[1;34m\"Color\"\u001b[0m\u001b[1;33m,\u001b[0m\u001b[1;34m\"Model\"\u001b[0m\u001b[1;33m]\u001b[0m\u001b[1;33m)\u001b[0m\u001b[1;33m\u001b[0m\u001b[1;33m\u001b[0m\u001b[0m\n\u001b[0;32m      2\u001b[0m \u001b[0mall_df\u001b[0m\u001b[1;33m[\u001b[0m\u001b[1;34m'Model'\u001b[0m\u001b[1;33m]\u001b[0m \u001b[1;33m=\u001b[0m \u001b[0mmodels\u001b[0m\u001b[1;33m\u001b[0m\u001b[1;33m\u001b[0m\u001b[0m\n\u001b[1;32m----> 3\u001b[1;33m \u001b[0mall_df\u001b[0m\u001b[1;33m[\u001b[0m\u001b[1;34m'Brand'\u001b[0m\u001b[1;33m]\u001b[0m \u001b[1;33m=\u001b[0m \u001b[0mbrands\u001b[0m\u001b[1;33m\u001b[0m\u001b[1;33m\u001b[0m\u001b[0m\n\u001b[0m\u001b[0;32m      4\u001b[0m \u001b[0mall_df\u001b[0m\u001b[1;33m[\u001b[0m\u001b[1;34m'Price'\u001b[0m\u001b[1;33m]\u001b[0m \u001b[1;33m=\u001b[0m \u001b[0mprices\u001b[0m\u001b[1;33m\u001b[0m\u001b[1;33m\u001b[0m\u001b[0m\n\u001b[0;32m      5\u001b[0m \u001b[0mall_df\u001b[0m\u001b[1;33m[\u001b[0m\u001b[1;34m'Color'\u001b[0m\u001b[1;33m]\u001b[0m \u001b[1;33m=\u001b[0m \u001b[0mcolors\u001b[0m\u001b[1;33m\u001b[0m\u001b[1;33m\u001b[0m\u001b[0m\n",
      "\u001b[1;32m~\\Anaconda3\\lib\\site-packages\\pandas\\core\\frame.py\u001b[0m in \u001b[0;36m__setitem__\u001b[1;34m(self, key, value)\u001b[0m\n\u001b[0;32m   3470\u001b[0m         \u001b[1;32melse\u001b[0m\u001b[1;33m:\u001b[0m\u001b[1;33m\u001b[0m\u001b[1;33m\u001b[0m\u001b[0m\n\u001b[0;32m   3471\u001b[0m             \u001b[1;31m# set column\u001b[0m\u001b[1;33m\u001b[0m\u001b[1;33m\u001b[0m\u001b[1;33m\u001b[0m\u001b[0m\n\u001b[1;32m-> 3472\u001b[1;33m             \u001b[0mself\u001b[0m\u001b[1;33m.\u001b[0m\u001b[0m_set_item\u001b[0m\u001b[1;33m(\u001b[0m\u001b[0mkey\u001b[0m\u001b[1;33m,\u001b[0m \u001b[0mvalue\u001b[0m\u001b[1;33m)\u001b[0m\u001b[1;33m\u001b[0m\u001b[1;33m\u001b[0m\u001b[0m\n\u001b[0m\u001b[0;32m   3473\u001b[0m \u001b[1;33m\u001b[0m\u001b[0m\n\u001b[0;32m   3474\u001b[0m     \u001b[1;32mdef\u001b[0m \u001b[0m_setitem_slice\u001b[0m\u001b[1;33m(\u001b[0m\u001b[0mself\u001b[0m\u001b[1;33m,\u001b[0m \u001b[0mkey\u001b[0m\u001b[1;33m,\u001b[0m \u001b[0mvalue\u001b[0m\u001b[1;33m)\u001b[0m\u001b[1;33m:\u001b[0m\u001b[1;33m\u001b[0m\u001b[1;33m\u001b[0m\u001b[0m\n",
      "\u001b[1;32m~\\Anaconda3\\lib\\site-packages\\pandas\\core\\frame.py\u001b[0m in \u001b[0;36m_set_item\u001b[1;34m(self, key, value)\u001b[0m\n\u001b[0;32m   3547\u001b[0m \u001b[1;33m\u001b[0m\u001b[0m\n\u001b[0;32m   3548\u001b[0m         \u001b[0mself\u001b[0m\u001b[1;33m.\u001b[0m\u001b[0m_ensure_valid_index\u001b[0m\u001b[1;33m(\u001b[0m\u001b[0mvalue\u001b[0m\u001b[1;33m)\u001b[0m\u001b[1;33m\u001b[0m\u001b[1;33m\u001b[0m\u001b[0m\n\u001b[1;32m-> 3549\u001b[1;33m         \u001b[0mvalue\u001b[0m \u001b[1;33m=\u001b[0m \u001b[0mself\u001b[0m\u001b[1;33m.\u001b[0m\u001b[0m_sanitize_column\u001b[0m\u001b[1;33m(\u001b[0m\u001b[0mkey\u001b[0m\u001b[1;33m,\u001b[0m \u001b[0mvalue\u001b[0m\u001b[1;33m)\u001b[0m\u001b[1;33m\u001b[0m\u001b[1;33m\u001b[0m\u001b[0m\n\u001b[0m\u001b[0;32m   3550\u001b[0m         \u001b[0mNDFrame\u001b[0m\u001b[1;33m.\u001b[0m\u001b[0m_set_item\u001b[0m\u001b[1;33m(\u001b[0m\u001b[0mself\u001b[0m\u001b[1;33m,\u001b[0m \u001b[0mkey\u001b[0m\u001b[1;33m,\u001b[0m \u001b[0mvalue\u001b[0m\u001b[1;33m)\u001b[0m\u001b[1;33m\u001b[0m\u001b[1;33m\u001b[0m\u001b[0m\n\u001b[0;32m   3551\u001b[0m \u001b[1;33m\u001b[0m\u001b[0m\n",
      "\u001b[1;32m~\\Anaconda3\\lib\\site-packages\\pandas\\core\\frame.py\u001b[0m in \u001b[0;36m_sanitize_column\u001b[1;34m(self, key, value, broadcast)\u001b[0m\n\u001b[0;32m   3732\u001b[0m \u001b[1;33m\u001b[0m\u001b[0m\n\u001b[0;32m   3733\u001b[0m             \u001b[1;31m# turn me into an ndarray\u001b[0m\u001b[1;33m\u001b[0m\u001b[1;33m\u001b[0m\u001b[1;33m\u001b[0m\u001b[0m\n\u001b[1;32m-> 3734\u001b[1;33m             \u001b[0mvalue\u001b[0m \u001b[1;33m=\u001b[0m \u001b[0msanitize_index\u001b[0m\u001b[1;33m(\u001b[0m\u001b[0mvalue\u001b[0m\u001b[1;33m,\u001b[0m \u001b[0mself\u001b[0m\u001b[1;33m.\u001b[0m\u001b[0mindex\u001b[0m\u001b[1;33m,\u001b[0m \u001b[0mcopy\u001b[0m\u001b[1;33m=\u001b[0m\u001b[1;32mFalse\u001b[0m\u001b[1;33m)\u001b[0m\u001b[1;33m\u001b[0m\u001b[1;33m\u001b[0m\u001b[0m\n\u001b[0m\u001b[0;32m   3735\u001b[0m             \u001b[1;32mif\u001b[0m \u001b[1;32mnot\u001b[0m \u001b[0misinstance\u001b[0m\u001b[1;33m(\u001b[0m\u001b[0mvalue\u001b[0m\u001b[1;33m,\u001b[0m \u001b[1;33m(\u001b[0m\u001b[0mnp\u001b[0m\u001b[1;33m.\u001b[0m\u001b[0mndarray\u001b[0m\u001b[1;33m,\u001b[0m \u001b[0mIndex\u001b[0m\u001b[1;33m)\u001b[0m\u001b[1;33m)\u001b[0m\u001b[1;33m:\u001b[0m\u001b[1;33m\u001b[0m\u001b[1;33m\u001b[0m\u001b[0m\n\u001b[0;32m   3736\u001b[0m                 \u001b[1;32mif\u001b[0m \u001b[0misinstance\u001b[0m\u001b[1;33m(\u001b[0m\u001b[0mvalue\u001b[0m\u001b[1;33m,\u001b[0m \u001b[0mlist\u001b[0m\u001b[1;33m)\u001b[0m \u001b[1;32mand\u001b[0m \u001b[0mlen\u001b[0m\u001b[1;33m(\u001b[0m\u001b[0mvalue\u001b[0m\u001b[1;33m)\u001b[0m \u001b[1;33m>\u001b[0m \u001b[1;36m0\u001b[0m\u001b[1;33m:\u001b[0m\u001b[1;33m\u001b[0m\u001b[1;33m\u001b[0m\u001b[0m\n",
      "\u001b[1;32m~\\Anaconda3\\lib\\site-packages\\pandas\\core\\internals\\construction.py\u001b[0m in \u001b[0;36msanitize_index\u001b[1;34m(data, index, copy)\u001b[0m\n\u001b[0;32m    610\u001b[0m \u001b[1;33m\u001b[0m\u001b[0m\n\u001b[0;32m    611\u001b[0m     \u001b[1;32mif\u001b[0m \u001b[0mlen\u001b[0m\u001b[1;33m(\u001b[0m\u001b[0mdata\u001b[0m\u001b[1;33m)\u001b[0m \u001b[1;33m!=\u001b[0m \u001b[0mlen\u001b[0m\u001b[1;33m(\u001b[0m\u001b[0mindex\u001b[0m\u001b[1;33m)\u001b[0m\u001b[1;33m:\u001b[0m\u001b[1;33m\u001b[0m\u001b[1;33m\u001b[0m\u001b[0m\n\u001b[1;32m--> 612\u001b[1;33m         \u001b[1;32mraise\u001b[0m \u001b[0mValueError\u001b[0m\u001b[1;33m(\u001b[0m\u001b[1;34m\"Length of values does not match length of index\"\u001b[0m\u001b[1;33m)\u001b[0m\u001b[1;33m\u001b[0m\u001b[1;33m\u001b[0m\u001b[0m\n\u001b[0m\u001b[0;32m    613\u001b[0m \u001b[1;33m\u001b[0m\u001b[0m\n\u001b[0;32m    614\u001b[0m     \u001b[1;32mif\u001b[0m \u001b[0misinstance\u001b[0m\u001b[1;33m(\u001b[0m\u001b[0mdata\u001b[0m\u001b[1;33m,\u001b[0m \u001b[0mABCIndexClass\u001b[0m\u001b[1;33m)\u001b[0m \u001b[1;32mand\u001b[0m \u001b[1;32mnot\u001b[0m \u001b[0mcopy\u001b[0m\u001b[1;33m:\u001b[0m\u001b[1;33m\u001b[0m\u001b[1;33m\u001b[0m\u001b[0m\n",
      "\u001b[1;31mValueError\u001b[0m: Length of values does not match length of index"
     ]
    }
   ],
   "source": [
    "all_df = pd.DataFrame(columns=['Brand','Price','Storage',\"Link\",\"Color\",\"Model\"])\n",
    "all_df['Model'] = models\n",
    "all_df['Brand'] = brands\n",
    "all_df['Price'] = prices\n",
    "all_df['Color'] = colors\n",
    "all_df['Storage'] = storages\n",
    "all_df['Link'] = hrefs\n",
    "all_df.to_excel('phonestoreutrecht.xls')\n",
    "all_df"
   ]
  },
  {
   "cell_type": "code",
   "execution_count": null,
   "metadata": {},
   "outputs": [],
   "source": []
  }
 ],
 "metadata": {
  "kernelspec": {
   "display_name": "Python 3",
   "language": "python",
   "name": "python3"
  },
  "language_info": {
   "codemirror_mode": {
    "name": "ipython",
    "version": 3
   },
   "file_extension": ".py",
   "mimetype": "text/x-python",
   "name": "python",
   "nbconvert_exporter": "python",
   "pygments_lexer": "ipython3",
   "version": "3.7.4"
  }
 },
 "nbformat": 4,
 "nbformat_minor": 2
}
