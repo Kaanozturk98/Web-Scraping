{
 "cells": [
  {
   "cell_type": "code",
   "execution_count": 377,
   "metadata": {},
   "outputs": [],
   "source": [
    "from  selenium import webdriver\n",
    "from selenium.webdriver.common.by import By\n",
    "from selenium.webdriver.support.ui import WebDriverWait\n",
    "from selenium.webdriver.support import expected_conditions as EC\n",
    "import time\n",
    "import operator"
   ]
  },
  {
   "cell_type": "code",
   "execution_count": 378,
   "metadata": {},
   "outputs": [],
   "source": [
    "login_txt = open(\"email-pass.txt\",\"r\")\n",
    "login_info = list([x.replace('\\n','') for x in login_txt.readlines()])\n",
    "song_name = \"Süpürgesi Yoncadan\""
   ]
  },
  {
   "cell_type": "code",
   "execution_count": 379,
   "metadata": {},
   "outputs": [],
   "source": [
    "chrome_path = r\"C:\\Users\\saxou\\Desktop\\PYTHON HACK\\chromedriver_win32 (4)\\chromedriver.exe\"\n",
    "driver = webdriver.Chrome(chrome_path)"
   ]
  },
  {
   "cell_type": "code",
   "execution_count": 380,
   "metadata": {},
   "outputs": [],
   "source": [
    "driver.get(\"https://open.spotify.com/\")"
   ]
  },
  {
   "cell_type": "code",
   "execution_count": 381,
   "metadata": {},
   "outputs": [],
   "source": [
    "login_bttn = driver.find_element_by_xpath(\"/html/body/div[3]/div/div[3]/div[1]/header/div[4]/button[2]\").click()"
   ]
  },
  {
   "cell_type": "code",
   "execution_count": 382,
   "metadata": {},
   "outputs": [],
   "source": [
    "wait = WebDriverWait(driver, 10)"
   ]
  },
  {
   "cell_type": "code",
   "execution_count": 383,
   "metadata": {},
   "outputs": [],
   "source": [
    "wait.until(EC.element_to_be_clickable((By.ID, 'login-username')))\n",
    "email_form = driver.find_element_by_id(\"login-username\")\n",
    "email_form.send_keys(login_info[0])\n",
    "passw_form = driver.find_element_by_id(\"login-password\")\n",
    "passw_form.send_keys(login_info[1])"
   ]
  },
  {
   "cell_type": "code",
   "execution_count": 384,
   "metadata": {},
   "outputs": [],
   "source": [
    "login_form = driver.find_element_by_xpath(\"/html/body/div[1]/div[2]/div/form/div[3]/div[2]/button\").click()"
   ]
  },
  {
   "cell_type": "code",
   "execution_count": 385,
   "metadata": {},
   "outputs": [],
   "source": [
    "wait.until(EC.element_to_be_clickable((By.XPATH, '/html/body/div[3]/div/div[3]/div[2]/nav/ul/li[2]/div/a/div/div[3]')))\n",
    "search_bttn = driver.find_element_by_xpath(\"/html/body/div[3]/div/div[3]/div[2]/nav/ul/li[2]/div/a/div/div[3]\")\n",
    "search_bttn.click()"
   ]
  },
  {
   "cell_type": "code",
   "execution_count": 386,
   "metadata": {},
   "outputs": [],
   "source": [
    "wait.until(EC.element_to_be_clickable((By.XPATH, '/html/body/div[3]/div/div[3]/div[1]/header/div[3]/div/div/label/input')))\n",
    "search_bar = driver.find_element_by_xpath(\"/html/body/div[3]/div/div[3]/div[1]/header/div[3]/div/div/label/input\")"
   ]
  },
  {
   "cell_type": "code",
   "execution_count": 387,
   "metadata": {},
   "outputs": [],
   "source": [
    "search_bar.send_keys(song_name)"
   ]
  },
  {
   "cell_type": "code",
   "execution_count": 388,
   "metadata": {},
   "outputs": [],
   "source": [
    "wait.until(EC.element_to_be_clickable((By.XPATH, '/html/body/div[3]/div/div[3]/div[4]/div[1]/div/div[2]/div/div/div/section[2]/div/div[2]/div[1]/div/div/div[3]/a/span')))\n",
    "driver.find_element_by_xpath(\"/html/body/div[3]/div/div[3]/div[4]/div[1]/div/div[2]/div/div/div/section[2]/div/div[2]/div[1]/div/div/div[3]/a/span\").click()"
   ]
  },
  {
   "cell_type": "code",
   "execution_count": 389,
   "metadata": {},
   "outputs": [],
   "source": [
    "wait.until(EC.element_to_be_clickable((By.CLASS_NAME, 'spoticon-repeat-16')))\n",
    "repeat_bttn = driver.find_element_by_class_name(\"spoticon-repeat-16\").click()"
   ]
  },
  {
   "cell_type": "code",
   "execution_count": 390,
   "metadata": {},
   "outputs": [],
   "source": [
    "wait.until(EC.element_to_be_clickable((By.CLASS_NAME, 'control-button--active')))\n",
    "repeat_bttn_2 = driver.find_element_by_class_name(\"control-button--active\").click()"
   ]
  },
  {
   "cell_type": "code",
   "execution_count": 391,
   "metadata": {},
   "outputs": [],
   "source": [
    "progress_time_el = driver.find_element_by_class_name(\"playback-bar__progress-time\")"
   ]
  },
  {
   "cell_type": "code",
   "execution_count": null,
   "metadata": {},
   "outputs": [
    {
     "name": "stdout",
     "output_type": "stream",
     "text": [
      "1\n",
      "2\n",
      "3\n",
      "4\n",
      "5\n",
      "6\n",
      "7\n"
     ]
    }
   ],
   "source": [
    "cnt = 0\n",
    "while cnt < 10:\n",
    "    progress_time1 = progress_time_el.text.replace(\":\",\"\")\n",
    "    time.sleep(10)\n",
    "    progress_time2 = progress_time_el.text.replace(\":\",\"\")\n",
    "    if progress_time1 > progress_time2:\n",
    "        cnt = cnt+1\n",
    "        print(cnt)"
   ]
  }
 ],
 "metadata": {
  "kernelspec": {
   "display_name": "Python 3",
   "language": "python",
   "name": "python3"
  },
  "language_info": {
   "codemirror_mode": {
    "name": "ipython",
    "version": 3
   },
   "file_extension": ".py",
   "mimetype": "text/x-python",
   "name": "python",
   "nbconvert_exporter": "python",
   "pygments_lexer": "ipython3",
   "version": "3.7.4"
  }
 },
 "nbformat": 4,
 "nbformat_minor": 2
}
