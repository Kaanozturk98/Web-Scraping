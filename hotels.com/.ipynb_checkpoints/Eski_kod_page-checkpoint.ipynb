{
 "cells": [
  {
   "cell_type": "code",
   "execution_count": 16,
   "metadata": {},
   "outputs": [],
   "source": [
    "from  selenium import webdriver\n",
    "import time\n",
    "import pandas as pd\n",
    "import operator"
   ]
  },
  {
   "cell_type": "code",
   "execution_count": 17,
   "metadata": {},
   "outputs": [],
   "source": [
    "chrome_path = r\"C:\\Users\\saxou\\Desktop\\PYTHON HACK\\Web Scrapping\\chromedriver_win32 (1)\\chromedriver.exe\"\n",
    "driver = webdriver.Chrome(chrome_path)"
   ]
  },
  {
   "cell_type": "code",
   "execution_count": 18,
   "metadata": {},
   "outputs": [],
   "source": [
    "driver.get(\"https://www.booking.com/hotel/it/albergo-atlantic.en-gb.html?aid=397594;label=gog235jc-1DCAEoggI46AdICVgDaOQBiAEBmAEJuAEXyAEM2AED6AEB-AECiAIBqAIDuAKSxLTvBcACAQ;sid=10ccf424897f33d70d6c2fa2c20e05c2;all_sr_blocks=8924102_88440844_0_1_0;checkin=2020-02-05;checkout=2020-02-08;dest_id=-111742;dest_type=city;dist=0;group_adults=1;group_children=0;hapos=1;highlighted_blocks=8924102_88440844_0_1_0;hpos=1;no_rooms=1;req_adults=1;req_children=0;room1=A;sb_price_type=total;sr_order=popularity;srepoch=1575832979;srpvid=b0fb884906cf0059;type=total;ucfs=1&#hotelTmpl\")\n",
    "time.sleep(2)"
   ]
  },
  {
   "cell_type": "code",
   "execution_count": 50,
   "metadata": {},
   "outputs": [
    {
     "name": "stdout",
     "output_type": "stream",
     "text": [
      "TL 862\n"
     ]
    }
   ],
   "source": [
    "try:\n",
    "    price = driver.find_element_by_class_name(\"bui-price-display__value\").text\n",
    "    print(price)\n",
    "    #prices.append(price)\n",
    "except:\n",
    "    time.sleep(1)\n",
    "    price_PE = driver.find_element_by_class_name(\"availability_price\")\n",
    "    price = price_PE.find_element_by_css_selector(\"span\").text\n",
    "    print(price)\n",
    "    #prices.append(price)"
   ]
  },
  {
   "cell_type": "code",
   "execution_count": 5,
   "metadata": {},
   "outputs": [
    {
     "name": "stdout",
     "output_type": "stream",
     "text": [
      "Hotel Hotel Atlantic\n"
     ]
    }
   ],
   "source": [
    "title = driver.find_element_by_class_name(\"hp__hotel-name\").text\n",
    "print(title)"
   ]
  },
  {
   "cell_type": "code",
   "execution_count": 6,
   "metadata": {},
   "outputs": [
    {
     "name": "stdout",
     "output_type": "stream",
     "text": [
      "Via Galliera 46, 40121 Bologna, Italy\n",
      "Bologna\n"
     ]
    }
   ],
   "source": [
    "location = driver.find_element_by_class_name(\"hp_address_subtitle\").text\n",
    "print(location)\n",
    "city = location.split()[len(location.split())-2].replace(\",\",\"\")\n",
    "print(city)"
   ]
  },
  {
   "cell_type": "code",
   "execution_count": 64,
   "metadata": {},
   "outputs": [
    {
     "name": "stdout",
     "output_type": "stream",
     "text": [
      "Delightful Perfect location All modarate Vintage hotel with somewhat old furniture but at excellent location & very helpful and kind staff.\n"
     ]
    }
   ],
   "source": [
    "driver.find_element_by_xpath('//*[@id=\"show_reviews_tab\"]').click()\n",
    "reviews = driver.find_elements_by_class_name(\"c-review-block__title\")\n",
    "#print(reviews)\n",
    "\n",
    "review_arr=[]\n",
    "for review in reviews:\n",
    "    review = review.text\n",
    "    if \"Read more\" in review or \"...\" in review:\n",
    "        pass\n",
    "        #print(\"-\")\n",
    "    else:\n",
    "        if len(review_arr)<4:\n",
    "            #print(review)\n",
    "            review_arr.append(review)\n",
    "            \n",
    "\n",
    "print(\" \".join(review_arr))"
   ]
  },
  {
   "cell_type": "code",
   "execution_count": 57,
   "metadata": {},
   "outputs": [
    {
     "name": "stdout",
     "output_type": "stream",
     "text": [
      "101\n"
     ]
    }
   ],
   "source": [
    "description = driver.find_element_by_class_name(\"hp-description\").text\n",
    "unwanted = driver.find_element_by_class_name(\"hp_desc_main_content\").text\n",
    "#print(unwanted)\n",
    "#print('-------------------------------------')\n",
    "facilities = description.replace(unwanted,\"\").split(\"\\n\")\n",
    "#print(facilities)\n",
    "facs_arr =[]\n",
    "for f in facilities:\n",
    "    if \"Good for solo travellers\" in f:\n",
    "        pass\n",
    "    else:\n",
    "        facs_arr.append(f)\n",
    "        \n",
    "facs = \" \".join(facs_arr)\n",
    "print(len(facs))"
   ]
  },
  {
   "cell_type": "code",
   "execution_count": 9,
   "metadata": {},
   "outputs": [],
   "source": [
    "driver.get(\"https://www.booking.com/searchresults.en-gb.html?aid=397594&label=gog235jc-1DCAEoggI46AdICVgDaOQBiAEBmAEJuAEXyAEM2AED6AEB-AECiAIBqAIDuAKSxLTvBcACAQ&lang=en-gb&sid=10ccf424897f33d70d6c2fa2c20e05c2&sb=1&src=searchresults&src_elem=sb&error_url=https%3A%2F%2Fwww.booking.com%2Fsearchresults.en-gb.html%3Faid%3D397594%3Blabel%3Dgog235jc-1DCAEoggI46AdICVgDaOQBiAEBmAEJuAEXyAEM2AED6AEB-AECiAIBqAIDuAKSxLTvBcACAQ%3Bsid%3D10ccf424897f33d70d6c2fa2c20e05c2%3Btmpl%3Dsearchresults%3Bac_click_type%3Db%3Bac_position%3D0%3Bcheckin_month%3D2%3Bcheckin_monthday%3D5%3Bcheckin_year%3D2020%3Bcheckout_month%3D2%3Bcheckout_monthday%3D8%3Bcheckout_year%3D2020%3Bcity%3D-111742%3Bclass_interval%3D1%3Bdest_id%3D4251%3Bdest_type%3Dregion%3Bdtdisc%3D0%3Bfrom_sf%3D1%3Bgroup_adults%3D1%3Bgroup_children%3D0%3Binac%3D0%3Bindex_postcard%3D0%3Blabel_click%3Dundef%3Bno_rooms%3D1%3Boffset%3D0%3Bpostcard%3D0%3Braw_dest_type%3Dregion%3Broom1%3DA%3Bsb_price_type%3Dtotal%3Bsearch_selected%3D1%3Bshw_aparth%3D1%3Bslp_r_match%3D0%3Bsrc%3Dsearchresults%3Bsrc_elem%3Dsb%3Bsrpvid%3Dc5ea8ca1742b0057%3Bss%3DItalian%2520Alps%252C%2520Italy%3Bss_all%3D0%3Bss_raw%3Ditalin%2520alps%3Bssb%3Dempty%3Bsshis%3D0%3Bssne%3DBologna%3Bssne_untouched%3DBologna%3Bsuggested_term%3Ditalian%2520alps%3Bsuggestion_clicked%3D1%3Btop_ufis%3D1%26%3B&ss=Bologna%2C+Emilia-Romagna%2C+Italy&is_ski_area=&ssne=Italian+Alps&ssne_untouched=Italian+Alps&checkin_year=2020&checkin_month=2&checkin_monthday=5&checkout_year=2020&checkout_month=2&checkout_monthday=8&group_adults=1&group_children=0&no_rooms=1&from_sf=1&search_pageview_id=c5ea8ca1742b0057&ac_suggestion_list_length=5&ac_suggestion_theme_list_length=0&ac_position=0&ac_langcode=en&ac_click_type=b&dest_id=-111742&dest_type=city&iata=BLQ&place_id_lat=44.493753&place_id_lon=11.343092&search_pageview_id=c5ea8ca1742b0057&search_selected=true&ss_raw=bologna\")"
   ]
  },
  {
   "cell_type": "code",
   "execution_count": 10,
   "metadata": {},
   "outputs": [
    {
     "name": "stdout",
     "output_type": "stream",
     "text": [
      "https://www.booking.com/hotel/it/albergo-atlantic.en-gb.html?aid=397594&label=gog235jc-1DCAEoggI46AdICVgDaOQBiAEBmAEJuAEXyAEM2AED6AEB-AECiAIBqAIDuAKSxLTvBcACAQ&sid=2505994a57b5ff7b40890a99de306bcf&all_sr_blocks=8924102_88440844_0_1_0&checkin=2020-02-05&checkout=2020-02-08&dest_id=-111742&dest_type=city&group_adults=1&group_children=0&hapos=1&highlighted_blocks=8924102_88440844_0_1_0&hpos=1&no_rooms=1&req_adults=1&req_children=0&room1=A&sr_order=popularity&srepoch=1575840449&srpvid=773e96e06dd30007&ucfs=1&from=searchresults;highlight_room=#hotelTmpl\n",
      "https://www.booking.com/hotel/it/largo-caduti-del-lavoro.en-gb.html?aid=397594&label=gog235jc-1DCAEoggI46AdICVgDaOQBiAEBmAEJuAEXyAEM2AED6AEB-AECiAIBqAIDuAKSxLTvBcACAQ&sid=2505994a57b5ff7b40890a99de306bcf&all_sr_blocks=200388203_120384568_2_0_0&checkin=2020-02-05&checkout=2020-02-08&dest_id=-111742&dest_type=city&group_adults=1&group_children=0&hapos=2&highlighted_blocks=200388203_120384568_2_0_0&hpos=2&no_rooms=1&req_adults=1&req_children=0&room1=A&sr_order=popularity&srepoch=1575840449&srpvid=773e96e06dd30007&ucfs=1&bhgwe_cep=1&from=searchresults;highlight_room=#hotelTmpl\n",
      "https://www.booking.com/hotel/it/hotelfierabologna.en-gb.html?aid=397594&label=gog235jc-1DCAEoggI46AdICVgDaOQBiAEBmAEJuAEXyAEM2AED6AEB-AECiAIBqAIDuAKSxLTvBcACAQ&sid=2505994a57b5ff7b40890a99de306bcf&all_sr_blocks=8060701_99798817_0_33_0&checkin=2020-02-05&checkout=2020-02-08&dest_id=-111742&dest_type=city&group_adults=1&group_children=0&hapos=3&highlighted_blocks=8060701_99798817_0_33_0&hpos=3&no_rooms=1&req_adults=1&req_children=0&room1=A&sr_order=popularity&srepoch=1575840449&srpvid=773e96e06dd30007&ucfs=1&from=searchresults;highlight_room=#hotelTmpl\n",
      "https://www.booking.com/hotel/it/hotelilcanalebologna.en-gb.html?aid=397594&label=gog235jc-1DCAEoggI46AdICVgDaOQBiAEBmAEJuAEXyAEM2AED6AEB-AECiAIBqAIDuAKSxLTvBcACAQ&sid=2505994a57b5ff7b40890a99de306bcf&checkin=2020-02-05&checkout=2020-02-08&dest_id=-111742&dest_type=city&group_adults=1&group_children=0&hapos=4&hpos=4&no_rooms=1&req_adults=1&req_children=0&room1=A&soh=1&sr_order=popularity&srepoch=1575840449&srpvid=773e96e06dd30007&ucfs=1&from=searchresults;highlight_room=#no_availability_msg\n",
      "https://www.booking.com/hotel/it/nuovo-del-porto.en-gb.html?aid=397594&label=gog235jc-1DCAEoggI46AdICVgDaOQBiAEBmAEJuAEXyAEM2AED6AEB-AECiAIBqAIDuAKSxLTvBcACAQ&sid=2505994a57b5ff7b40890a99de306bcf&all_sr_blocks=8586312_88920791_0_1_0&checkin=2020-02-05&checkout=2020-02-08&dest_id=-111742&dest_type=city&group_adults=1&group_children=0&hapos=5&highlighted_blocks=8586312_88920791_0_1_0&hpos=5&no_rooms=1&req_adults=1&req_children=0&room1=A&sr_order=popularity&srepoch=1575840449&srpvid=773e96e06dd30007&ucfs=1&from=searchresults;highlight_room=#hotelTmpl\n",
      "https://www.booking.com/hotel/it/millennhotel.en-gb.html?aid=397594&label=gog235jc-1DCAEoggI46AdICVgDaOQBiAEBmAEJuAEXyAEM2AED6AEB-AECiAIBqAIDuAKSxLTvBcACAQ&sid=2505994a57b5ff7b40890a99de306bcf&all_sr_blocks=1451601_128401622_0_1_0&checkin=2020-02-05&checkout=2020-02-08&dest_id=-111742&dest_type=city&group_adults=1&group_children=0&hapos=6&highlighted_blocks=1451601_128401622_0_1_0&hpos=6&no_rooms=1&req_adults=1&req_children=0&room1=A&sr_order=popularity&srepoch=1575840449&srpvid=773e96e06dd30007&ucfs=1&from=searchresults;highlight_room=#hotelTmpl\n",
      "https://www.booking.com/hotel/it/palace-bologna.en-gb.html?aid=397594&label=gog235jc-1DCAEoggI46AdICVgDaOQBiAEBmAEJuAEXyAEM2AED6AEB-AECiAIBqAIDuAKSxLTvBcACAQ&sid=2505994a57b5ff7b40890a99de306bcf&all_sr_blocks=4771401_93698635_0_2_0&checkin=2020-02-05&checkout=2020-02-08&dest_id=-111742&dest_type=city&group_adults=1&group_children=0&hapos=7&highlighted_blocks=4771401_93698635_0_2_0&hpos=7&no_rooms=1&req_adults=1&req_children=0&room1=A&sr_order=popularity&srepoch=1575840449&srpvid=773e96e06dd30007&ucfs=1&from=searchresults;highlight_room=#hotelTmpl\n",
      "https://www.booking.com/hotel/it/pedrini.en-gb.html?aid=397594&label=gog235jc-1DCAEoggI46AdICVgDaOQBiAEBmAEJuAEXyAEM2AED6AEB-AECiAIBqAIDuAKSxLTvBcACAQ&sid=2505994a57b5ff7b40890a99de306bcf&all_sr_blocks=8993901_179846494_0_1_0&checkin=2020-02-05&checkout=2020-02-08&dest_id=-111742&dest_type=city&group_adults=1&group_children=0&hapos=8&highlighted_blocks=8993901_179846494_0_1_0&hpos=8&no_rooms=1&req_adults=1&req_children=0&room1=A&sr_order=popularity&srepoch=1575840449&srpvid=773e96e06dd30007&ucfs=1&from=searchresults;highlight_room=#hotelTmpl\n",
      "https://www.booking.com/hotel/it/astoriabologna.en-gb.html?aid=397594&label=gog235jc-1DCAEoggI46AdICVgDaOQBiAEBmAEJuAEXyAEM2AED6AEB-AECiAIBqAIDuAKSxLTvBcACAQ&sid=2505994a57b5ff7b40890a99de306bcf&all_sr_blocks=8042301_88153505_0_1_0&checkin=2020-02-05&checkout=2020-02-08&dest_id=-111742&dest_type=city&group_adults=1&group_children=0&hapos=9&highlighted_blocks=8042301_88153505_0_1_0&hpos=9&no_rooms=1&req_adults=1&req_children=0&room1=A&sr_order=popularity&srepoch=1575840449&srpvid=773e96e06dd30007&ucfs=1&from=searchresults;highlight_room=#hotelTmpl\n",
      "https://www.booking.com/hotel/it/tl-appartamenti-murri-bologna.en-gb.html?aid=397594&label=gog235jc-1DCAEoggI46AdICVgDaOQBiAEBmAEJuAEXyAEM2AED6AEB-AECiAIBqAIDuAKSxLTvBcACAQ&sid=2505994a57b5ff7b40890a99de306bcf&checkin=2020-02-05&checkout=2020-02-08&dest_id=-111742&dest_type=city&group_adults=1&group_children=0&hapos=10&hpos=10&no_rooms=1&req_adults=1&req_children=0&room1=A&soh=1&sr_order=popularity&srepoch=1575840449&srpvid=773e96e06dd30007&ucfs=1&from=searchresults;highlight_room=#no_availability_msg\n",
      "https://www.booking.com/hotel/it/una-bologna.en-gb.html?aid=397594&label=gog235jc-1DCAEoggI46AdICVgDaOQBiAEBmAEJuAEXyAEM2AED6AEB-AECiAIBqAIDuAKSxLTvBcACAQ&sid=2505994a57b5ff7b40890a99de306bcf&all_sr_blocks=8312714_93707961_0_41_0&checkin=2020-02-05&checkout=2020-02-08&dest_id=-111742&dest_type=city&group_adults=1&group_children=0&hapos=11&highlighted_blocks=8312714_93707961_0_41_0&hpos=11&no_rooms=1&req_adults=1&req_children=0&room1=A&sr_order=popularity&srepoch=1575840449&srpvid=773e96e06dd30007&ucfs=1&from=searchresults;highlight_room=#hotelTmpl\n",
      "https://www.booking.com/hotel/it/excelsior.en-gb.html?aid=397594&label=gog235jc-1DCAEoggI46AdICVgDaOQBiAEBmAEJuAEXyAEM2AED6AEB-AECiAIBqAIDuAKSxLTvBcACAQ&sid=2505994a57b5ff7b40890a99de306bcf&all_sr_blocks=19697_91467133_1_1_0&checkin=2020-02-05&checkout=2020-02-08&dest_id=-111742&dest_type=city&group_adults=1&group_children=0&hapos=12&highlighted_blocks=19697_91467133_1_1_0&hpos=12&no_rooms=1&req_adults=1&req_children=0&room1=A&sr_order=popularity&srepoch=1575840449&srpvid=773e96e06dd30007&ucfs=1&from=searchresults;highlight_room=#hotelTmpl\n",
      "https://www.booking.com/hotel/it/accademia-bologna.en-gb.html?aid=397594&label=gog235jc-1DCAEoggI46AdICVgDaOQBiAEBmAEJuAEXyAEM2AED6AEB-AECiAIBqAIDuAKSxLTvBcACAQ&sid=2505994a57b5ff7b40890a99de306bcf&all_sr_blocks=8564501_200936341_0_1_0&checkin=2020-02-05&checkout=2020-02-08&dest_id=-111742&dest_type=city&group_adults=1&group_children=0&hapos=13&highlighted_blocks=8564501_200936341_0_1_0&hpos=13&no_rooms=1&req_adults=1&req_children=0&room1=A&sr_order=popularity&srepoch=1575840449&srpvid=773e96e06dd30007&ucfs=1&from=searchresults;highlight_room=#hotelTmpl\n",
      "https://www.booking.com/hotel/it/bologna-centro.en-gb.html?aid=397594&label=gog235jc-1DCAEoggI46AdICVgDaOQBiAEBmAEJuAEXyAEM2AED6AEB-AECiAIBqAIDuAKSxLTvBcACAQ&sid=2505994a57b5ff7b40890a99de306bcf&all_sr_blocks=8959102_94303515_1_2_0&checkin=2020-02-05&checkout=2020-02-08&dest_id=-111742&dest_type=city&group_adults=1&group_children=0&hapos=14&highlighted_blocks=8959102_94303515_1_2_0&hpos=14&no_rooms=1&req_adults=1&req_children=0&room1=A&sr_order=popularity&srepoch=1575840449&srpvid=773e96e06dd30007&ucfs=1&from=searchresults;highlight_room=#hotelTmpl\n",
      "https://www.booking.com/hotel/it/hotelreginabologna.en-gb.html?aid=397594&label=gog235jc-1DCAEoggI46AdICVgDaOQBiAEBmAEJuAEXyAEM2AED6AEB-AECiAIBqAIDuAKSxLTvBcACAQ&sid=2505994a57b5ff7b40890a99de306bcf&all_sr_blocks=8070101_211274310_0_1_0&checkin=2020-02-05&checkout=2020-02-08&dest_id=-111742&dest_type=city&group_adults=1&group_children=0&hapos=15&highlighted_blocks=8070101_211274310_0_1_0&hpos=15&no_rooms=1&req_adults=1&req_children=0&room1=A&sr_order=popularity&srepoch=1575840449&srpvid=773e96e06dd30007&ucfs=1&from=searchresults;highlight_room=#hotelTmpl\n",
      "https://www.booking.com/hotel/it/albergo-delle-draperie.en-gb.html?aid=397594&label=gog235jc-1DCAEoggI46AdICVgDaOQBiAEBmAEJuAEXyAEM2AED6AEB-AECiAIBqAIDuAKSxLTvBcACAQ&sid=2505994a57b5ff7b40890a99de306bcf&all_sr_blocks=50652507_230236913_0_2_0&checkin=2020-02-05&checkout=2020-02-08&dest_id=-111742&dest_type=city&group_adults=1&group_children=0&hapos=16&highlighted_blocks=50652507_230236913_0_2_0&hpos=16&no_rooms=1&req_adults=1&req_children=0&room1=A&sr_order=popularity&srepoch=1575840449&srpvid=773e96e06dd30007&ucfs=1&from=searchresults;highlight_room=#hotelTmpl\n",
      "https://www.booking.com/hotel/it/savoiahotelcountryhouse.en-gb.html?aid=397594&label=gog235jc-1DCAEoggI46AdICVgDaOQBiAEBmAEJuAEXyAEM2AED6AEB-AECiAIBqAIDuAKSxLTvBcACAQ&sid=2505994a57b5ff7b40890a99de306bcf&checkin=2020-02-05&checkout=2020-02-08&dest_id=-111742&dest_type=city&group_adults=1&group_children=0&hapos=17&hpos=17&no_rooms=1&req_adults=1&req_children=0&room1=A&soh=1&sr_order=popularity&srepoch=1575840449&srpvid=773e96e06dd30007&ucfs=1&from=searchresults;highlight_room=#no_availability_msg\n",
      "https://www.booking.com/hotel/it/albergocentrale.en-gb.html?aid=397594&label=gog235jc-1DCAEoggI46AdICVgDaOQBiAEBmAEJuAEXyAEM2AED6AEB-AECiAIBqAIDuAKSxLTvBcACAQ&sid=2505994a57b5ff7b40890a99de306bcf&all_sr_blocks=8282702_116215936_0_1_0&checkin=2020-02-05&checkout=2020-02-08&dest_id=-111742&dest_type=city&group_adults=1&group_children=0&hapos=18&highlighted_blocks=8282702_116215936_0_1_0&hpos=18&no_rooms=1&req_adults=1&req_children=0&room1=A&sr_order=popularity&srepoch=1575840449&srpvid=773e96e06dd30007&ucfs=1&from=searchresults;highlight_room=#hotelTmpl\n",
      "https://www.booking.com/hotel/it/cavour-bologna.en-gb.html?aid=397594&label=gog235jc-1DCAEoggI46AdICVgDaOQBiAEBmAEJuAEXyAEM2AED6AEB-AECiAIBqAIDuAKSxLTvBcACAQ&sid=2505994a57b5ff7b40890a99de306bcf&all_sr_blocks=40115302_128366919_1_1_0&checkin=2020-02-05&checkout=2020-02-08&dest_id=-111742&dest_type=city&group_adults=1&group_children=0&hapos=19&highlighted_blocks=40115302_128366919_1_1_0&hpos=19&no_rooms=1&req_adults=1&req_children=0&room1=A&sr_order=popularity&srepoch=1575840449&srpvid=773e96e06dd30007&ucfs=1&from=searchresults;highlight_room=#hotelTmpl\n",
      "https://www.booking.com/hotel/it/i-portici.en-gb.html?aid=397594&label=gog235jc-1DCAEoggI46AdICVgDaOQBiAEBmAEJuAEXyAEM2AED6AEB-AECiAIBqAIDuAKSxLTvBcACAQ&sid=2505994a57b5ff7b40890a99de306bcf&all_sr_blocks=8993711_193939370_1_2_0&checkin=2020-02-05&checkout=2020-02-08&dest_id=-111742&dest_type=city&group_adults=1&group_children=0&hapos=20&highlighted_blocks=8993711_193939370_1_2_0&hpos=20&no_rooms=1&req_adults=1&req_children=0&room1=A&sr_order=popularity&srepoch=1575840449&srpvid=773e96e06dd30007&ucfs=1&from=searchresults;highlight_room=#hotelTmpl\n",
      "https://www.booking.com/hotel/it/san-felice.en-gb.html?aid=397594&label=gog235jc-1DCAEoggI46AdICVgDaOQBiAEBmAEJuAEXyAEM2AED6AEB-AECiAIBqAIDuAKSxLTvBcACAQ&sid=2505994a57b5ff7b40890a99de306bcf&all_sr_blocks=23716002_128967744_0_1_0&checkin=2020-02-05&checkout=2020-02-08&dest_id=-111742&dest_type=city&group_adults=1&group_children=0&hapos=21&highlighted_blocks=23716002_128967744_0_1_0&hpos=21&no_rooms=1&req_adults=1&req_children=0&room1=A&sr_order=popularity&srepoch=1575840449&srpvid=773e96e06dd30007&ucfs=1&from=searchresults;highlight_room=#hotelTmpl\n",
      "https://www.booking.com/hotel/it/nh-bologna-de-la-gare.en-gb.html?aid=397594&label=gog235jc-1DCAEoggI46AdICVgDaOQBiAEBmAEJuAEXyAEM2AED6AEB-AECiAIBqAIDuAKSxLTvBcACAQ&sid=2505994a57b5ff7b40890a99de306bcf&all_sr_blocks=8168606_94109388_0_2_0&checkin=2020-02-05&checkout=2020-02-08&dest_id=-111742&dest_type=city&group_adults=1&group_children=0&hapos=22&highlighted_blocks=8168606_94109388_0_2_0&hpos=22&no_rooms=1&req_adults=1&req_children=0&room1=A&sr_order=popularity&srepoch=1575840449&srpvid=773e96e06dd30007&ucfs=1&from=searchresults;highlight_room=#hotelTmpl\n",
      "https://www.booking.com/hotel/it/hoteltrevecchibologna.en-gb.html?aid=397594&label=gog235jc-1DCAEoggI46AdICVgDaOQBiAEBmAEJuAEXyAEM2AED6AEB-AECiAIBqAIDuAKSxLTvBcACAQ&sid=2505994a57b5ff7b40890a99de306bcf&all_sr_blocks=8069701_88919750_0_1_0&checkin=2020-02-05&checkout=2020-02-08&dest_id=-111742&dest_type=city&group_adults=1&group_children=0&hapos=23&highlighted_blocks=8069701_88919750_0_1_0&hpos=23&no_rooms=1&req_adults=1&req_children=0&room1=A&sr_order=popularity&srepoch=1575840449&srpvid=773e96e06dd30007&ucfs=1&from=searchresults;highlight_room=#hotelTmpl\n",
      "https://www.booking.com/hotel/it/m-amp-e-violet-house.en-gb.html?aid=397594&label=gog235jc-1DCAEoggI46AdICVgDaOQBiAEBmAEJuAEXyAEM2AED6AEB-AECiAIBqAIDuAKSxLTvBcACAQ&sid=2505994a57b5ff7b40890a99de306bcf&checkin=2020-02-05&checkout=2020-02-08&dest_id=-111742&dest_type=city&group_adults=1&group_children=0&hapos=24&hpos=24&no_rooms=1&req_adults=1&req_children=0&room1=A&soh=1&sr_order=popularity&srepoch=1575840449&srpvid=773e96e06dd30007&ucfs=1&from=searchresults;highlight_room=#no_availability_msg\n",
      "https://www.booking.com/hotel/it/bologna-bologna.en-gb.html?aid=397594&label=gog235jc-1DCAEoggI46AdICVgDaOQBiAEBmAEJuAEXyAEM2AED6AEB-AECiAIBqAIDuAKSxLTvBcACAQ&sid=2505994a57b5ff7b40890a99de306bcf&all_sr_blocks=27320807_105198756_1_1_0&checkin=2020-02-05&checkout=2020-02-08&dest_id=-111742&dest_type=city&group_adults=1&group_children=0&hapos=25&highlighted_blocks=27320807_105198756_1_1_0&hpos=25&no_rooms=1&req_adults=1&req_children=0&room1=A&sr_order=popularity&srepoch=1575840449&srpvid=773e96e06dd30007&ucfs=1&from=searchresults;highlight_room=#hotelTmpl\n",
      "https://www.booking.com/hotel/it/san-giorgio-bologna.en-gb.html?aid=397594&label=gog235jc-1DCAEoggI46AdICVgDaOQBiAEBmAEJuAEXyAEM2AED6AEB-AECiAIBqAIDuAKSxLTvBcACAQ&sid=2505994a57b5ff7b40890a99de306bcf&all_sr_blocks=24901101_88164351_0_1_0&checkin=2020-02-05&checkout=2020-02-08&dest_id=-111742&dest_type=city&group_adults=1&group_children=0&hapos=26&highlighted_blocks=24901101_88164351_0_1_0&hpos=26&no_rooms=1&req_adults=1&req_children=0&room1=A&sr_order=popularity&srepoch=1575840449&srpvid=773e96e06dd30007&ucfs=1&from=searchresults;highlight_room=#hotelTmpl\n"
     ]
    },
    {
     "name": "stdout",
     "output_type": "stream",
     "text": [
      "https://www.booking.com/hotel/it/best-western-san-donato.en-gb.html?aid=397594&label=gog235jc-1DCAEoggI46AdICVgDaOQBiAEBmAEJuAEXyAEM2AED6AEB-AECiAIBqAIDuAKSxLTvBcACAQ&sid=2505994a57b5ff7b40890a99de306bcf&all_sr_blocks=8434018_88920394_1_0_0&checkin=2020-02-05&checkout=2020-02-08&dest_id=-111742&dest_type=city&group_adults=1&group_children=0&hapos=27&highlighted_blocks=8434018_88920394_1_0_0&hpos=27&no_rooms=1&req_adults=1&req_children=0&room1=A&sr_order=popularity&srepoch=1575840449&srpvid=773e96e06dd30007&ucfs=1&from=searchresults;highlight_room=#hotelTmpl\n",
      "https://www.booking.com/hotel/it/donatello-bologna.en-gb.html?aid=397594&label=gog235jc-1DCAEoggI46AdICVgDaOQBiAEBmAEJuAEXyAEM2AED6AEB-AECiAIBqAIDuAKSxLTvBcACAQ&sid=2505994a57b5ff7b40890a99de306bcf&all_sr_blocks=8591901_223973617_0_2_0&checkin=2020-02-05&checkout=2020-02-08&dest_id=-111742&dest_type=city&group_adults=1&group_children=0&hapos=28&highlighted_blocks=8591901_223973617_0_2_0&hpos=28&no_rooms=1&req_adults=1&req_children=0&room1=A&sr_order=popularity&srepoch=1575840449&srpvid=773e96e06dd30007&ucfs=1&from=searchresults;highlight_room=#hotelTmpl\n",
      "https://www.booking.com/hotel/it/university.en-gb.html?aid=397594&label=gog235jc-1DCAEoggI46AdICVgDaOQBiAEBmAEJuAEXyAEM2AED6AEB-AECiAIBqAIDuAKSxLTvBcACAQ&sid=2505994a57b5ff7b40890a99de306bcf&all_sr_blocks=8839201_209382967_0_1_0&checkin=2020-02-05&checkout=2020-02-08&dest_id=-111742&dest_type=city&group_adults=1&group_children=0&hapos=29&highlighted_blocks=8839201_209382967_0_1_0&hpos=29&no_rooms=1&req_adults=1&req_children=0&room1=A&sr_order=popularity&srepoch=1575840449&srpvid=773e96e06dd30007&ucfs=1&from=searchresults;highlight_room=#hotelTmpl\n"
     ]
    }
   ],
   "source": [
    "hrefs = driver.find_elements_by_class_name(\"url\")\n",
    "for el in hrefs:\n",
    "    href = el.get_attribute(\"href\")\n",
    "    print(href)"
   ]
  },
  {
   "cell_type": "code",
   "execution_count": 11,
   "metadata": {},
   "outputs": [
    {
     "ename": "InvalidArgumentException",
     "evalue": "Message: invalid argument: 'url' must be a string\n  (Session info: chrome=78.0.3904.108)\n",
     "output_type": "error",
     "traceback": [
      "\u001b[1;31m---------------------------------------------------------------------------\u001b[0m",
      "\u001b[1;31mInvalidArgumentException\u001b[0m                  Traceback (most recent call last)",
      "\u001b[1;32m<ipython-input-11-34f61807a584>\u001b[0m in \u001b[0;36m<module>\u001b[1;34m\u001b[0m\n\u001b[0;32m      1\u001b[0m \u001b[1;32mfor\u001b[0m \u001b[0mhref\u001b[0m \u001b[1;32min\u001b[0m \u001b[0mhrefs\u001b[0m\u001b[1;33m:\u001b[0m\u001b[1;33m\u001b[0m\u001b[1;33m\u001b[0m\u001b[0m\n\u001b[1;32m----> 2\u001b[1;33m     \u001b[0mdriver\u001b[0m\u001b[1;33m.\u001b[0m\u001b[0mget\u001b[0m\u001b[1;33m(\u001b[0m\u001b[0mhref\u001b[0m\u001b[1;33m)\u001b[0m\u001b[1;33m\u001b[0m\u001b[1;33m\u001b[0m\u001b[0m\n\u001b[0m\u001b[0;32m      3\u001b[0m     \u001b[0mtime\u001b[0m\u001b[1;33m.\u001b[0m\u001b[0msleep\u001b[0m\u001b[1;33m(\u001b[0m\u001b[1;36m1\u001b[0m\u001b[1;33m)\u001b[0m\u001b[1;33m\u001b[0m\u001b[1;33m\u001b[0m\u001b[0m\n\u001b[0;32m      4\u001b[0m \u001b[1;33m\u001b[0m\u001b[0m\n\u001b[0;32m      5\u001b[0m \u001b[1;33m\u001b[0m\u001b[0m\n",
      "\u001b[1;32m~\\Anaconda3\\lib\\site-packages\\selenium\\webdriver\\remote\\webdriver.py\u001b[0m in \u001b[0;36mget\u001b[1;34m(self, url)\u001b[0m\n\u001b[0;32m    331\u001b[0m         \u001b[0mLoads\u001b[0m \u001b[0ma\u001b[0m \u001b[0mweb\u001b[0m \u001b[0mpage\u001b[0m \u001b[1;32min\u001b[0m \u001b[0mthe\u001b[0m \u001b[0mcurrent\u001b[0m \u001b[0mbrowser\u001b[0m \u001b[0msession\u001b[0m\u001b[1;33m.\u001b[0m\u001b[1;33m\u001b[0m\u001b[1;33m\u001b[0m\u001b[0m\n\u001b[0;32m    332\u001b[0m         \"\"\"\n\u001b[1;32m--> 333\u001b[1;33m         \u001b[0mself\u001b[0m\u001b[1;33m.\u001b[0m\u001b[0mexecute\u001b[0m\u001b[1;33m(\u001b[0m\u001b[0mCommand\u001b[0m\u001b[1;33m.\u001b[0m\u001b[0mGET\u001b[0m\u001b[1;33m,\u001b[0m \u001b[1;33m{\u001b[0m\u001b[1;34m'url'\u001b[0m\u001b[1;33m:\u001b[0m \u001b[0murl\u001b[0m\u001b[1;33m}\u001b[0m\u001b[1;33m)\u001b[0m\u001b[1;33m\u001b[0m\u001b[1;33m\u001b[0m\u001b[0m\n\u001b[0m\u001b[0;32m    334\u001b[0m \u001b[1;33m\u001b[0m\u001b[0m\n\u001b[0;32m    335\u001b[0m     \u001b[1;33m@\u001b[0m\u001b[0mproperty\u001b[0m\u001b[1;33m\u001b[0m\u001b[1;33m\u001b[0m\u001b[0m\n",
      "\u001b[1;32m~\\Anaconda3\\lib\\site-packages\\selenium\\webdriver\\remote\\webdriver.py\u001b[0m in \u001b[0;36mexecute\u001b[1;34m(self, driver_command, params)\u001b[0m\n\u001b[0;32m    319\u001b[0m         \u001b[0mresponse\u001b[0m \u001b[1;33m=\u001b[0m \u001b[0mself\u001b[0m\u001b[1;33m.\u001b[0m\u001b[0mcommand_executor\u001b[0m\u001b[1;33m.\u001b[0m\u001b[0mexecute\u001b[0m\u001b[1;33m(\u001b[0m\u001b[0mdriver_command\u001b[0m\u001b[1;33m,\u001b[0m \u001b[0mparams\u001b[0m\u001b[1;33m)\u001b[0m\u001b[1;33m\u001b[0m\u001b[1;33m\u001b[0m\u001b[0m\n\u001b[0;32m    320\u001b[0m         \u001b[1;32mif\u001b[0m \u001b[0mresponse\u001b[0m\u001b[1;33m:\u001b[0m\u001b[1;33m\u001b[0m\u001b[1;33m\u001b[0m\u001b[0m\n\u001b[1;32m--> 321\u001b[1;33m             \u001b[0mself\u001b[0m\u001b[1;33m.\u001b[0m\u001b[0merror_handler\u001b[0m\u001b[1;33m.\u001b[0m\u001b[0mcheck_response\u001b[0m\u001b[1;33m(\u001b[0m\u001b[0mresponse\u001b[0m\u001b[1;33m)\u001b[0m\u001b[1;33m\u001b[0m\u001b[1;33m\u001b[0m\u001b[0m\n\u001b[0m\u001b[0;32m    322\u001b[0m             response['value'] = self._unwrap_value(\n\u001b[0;32m    323\u001b[0m                 response.get('value', None))\n",
      "\u001b[1;32m~\\Anaconda3\\lib\\site-packages\\selenium\\webdriver\\remote\\errorhandler.py\u001b[0m in \u001b[0;36mcheck_response\u001b[1;34m(self, response)\u001b[0m\n\u001b[0;32m    240\u001b[0m                 \u001b[0malert_text\u001b[0m \u001b[1;33m=\u001b[0m \u001b[0mvalue\u001b[0m\u001b[1;33m[\u001b[0m\u001b[1;34m'alert'\u001b[0m\u001b[1;33m]\u001b[0m\u001b[1;33m.\u001b[0m\u001b[0mget\u001b[0m\u001b[1;33m(\u001b[0m\u001b[1;34m'text'\u001b[0m\u001b[1;33m)\u001b[0m\u001b[1;33m\u001b[0m\u001b[1;33m\u001b[0m\u001b[0m\n\u001b[0;32m    241\u001b[0m             \u001b[1;32mraise\u001b[0m \u001b[0mexception_class\u001b[0m\u001b[1;33m(\u001b[0m\u001b[0mmessage\u001b[0m\u001b[1;33m,\u001b[0m \u001b[0mscreen\u001b[0m\u001b[1;33m,\u001b[0m \u001b[0mstacktrace\u001b[0m\u001b[1;33m,\u001b[0m \u001b[0malert_text\u001b[0m\u001b[1;33m)\u001b[0m\u001b[1;33m\u001b[0m\u001b[1;33m\u001b[0m\u001b[0m\n\u001b[1;32m--> 242\u001b[1;33m         \u001b[1;32mraise\u001b[0m \u001b[0mexception_class\u001b[0m\u001b[1;33m(\u001b[0m\u001b[0mmessage\u001b[0m\u001b[1;33m,\u001b[0m \u001b[0mscreen\u001b[0m\u001b[1;33m,\u001b[0m \u001b[0mstacktrace\u001b[0m\u001b[1;33m)\u001b[0m\u001b[1;33m\u001b[0m\u001b[1;33m\u001b[0m\u001b[0m\n\u001b[0m\u001b[0;32m    243\u001b[0m \u001b[1;33m\u001b[0m\u001b[0m\n\u001b[0;32m    244\u001b[0m     \u001b[1;32mdef\u001b[0m \u001b[0m_value_or_default\u001b[0m\u001b[1;33m(\u001b[0m\u001b[0mself\u001b[0m\u001b[1;33m,\u001b[0m \u001b[0mobj\u001b[0m\u001b[1;33m,\u001b[0m \u001b[0mkey\u001b[0m\u001b[1;33m,\u001b[0m \u001b[0mdefault\u001b[0m\u001b[1;33m)\u001b[0m\u001b[1;33m:\u001b[0m\u001b[1;33m\u001b[0m\u001b[1;33m\u001b[0m\u001b[0m\n",
      "\u001b[1;31mInvalidArgumentException\u001b[0m: Message: invalid argument: 'url' must be a string\n  (Session info: chrome=78.0.3904.108)\n"
     ]
    }
   ],
   "source": [
    "for href in hrefs:  \n",
    "    driver.get(href)\n",
    "    time.sleep(1)\n",
    "\n",
    "     "
   ]
  }
 ],
 "metadata": {
  "kernelspec": {
   "display_name": "Python 3",
   "language": "python",
   "name": "python3"
  },
  "language_info": {
   "codemirror_mode": {
    "name": "ipython",
    "version": 3
   },
   "file_extension": ".py",
   "mimetype": "text/x-python",
   "name": "python",
   "nbconvert_exporter": "python",
   "pygments_lexer": "ipython3",
   "version": "3.7.4"
  }
 },
 "nbformat": 4,
 "nbformat_minor": 2
}
