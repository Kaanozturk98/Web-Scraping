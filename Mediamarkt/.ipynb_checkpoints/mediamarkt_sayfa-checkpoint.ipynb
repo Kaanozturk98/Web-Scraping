{
 "cells": [
  {
   "cell_type": "code",
   "execution_count": 1,
   "metadata": {},
   "outputs": [],
   "source": [
    "from  selenium import webdriver\n",
    "import time\n"
   ]
  },
  {
   "cell_type": "code",
   "execution_count": 2,
   "metadata": {},
   "outputs": [],
   "source": [
    "chrome_path = r\"C:\\Users\\saxou\\Desktop\\PYTHON HACK\\Web Scrapping\\chromedriver_win32 (1)\\chromedriver.exe\"\n",
    "driver = webdriver.Chrome(chrome_path)"
   ]
  },
  {
   "cell_type": "code",
   "execution_count": 3,
   "metadata": {},
   "outputs": [],
   "source": [
    "driver.get(\"https://www.mediamarkt.nl/nl/category/_smartphones-483222.html?searchParams=&sort=&view=PRODUCTLIST&page=8\")\n",
    "#time.sleep(10)"
   ]
  },
  {
   "cell_type": "code",
   "execution_count": 4,
   "metadata": {},
   "outputs": [],
   "source": [
    "driver.find_element_by_class_name('cookie-info-accept-button').click()"
   ]
  },
  {
   "cell_type": "code",
   "execution_count": 5,
   "metadata": {
    "scrolled": true
   },
   "outputs": [
    {
     "name": "stdout",
     "output_type": "stream",
     "text": [
      "['APPLE', 'iPhone', '11', 'Pro', 'Max', '-', '64', 'GB', 'Goud']\n",
      "['HUAWEI', 'Y7', '(2018)', '-', '16', 'GB', 'Dual-sim', 'Blauw']\n",
      "['HUAWEI', 'Y7', '(2018)', '-', '16', 'GB', 'Dual-sim', 'Zwart']\n",
      "['RUGGEAR', 'RG160', '-', '4', 'GB', 'Dual-sim', 'Zwart']\n",
      "['NOKIA', '3.2', '-', '16', 'GB', 'Dual-sim', 'Zwart']\n",
      "['SAMSUNG', 'Galaxy', 'S10', 'Plus', '-', '1', 'TB', 'Dual-sim', 'Wit']\n",
      "['BLACKBERRY', 'KEY2', 'LE', '-', '32', 'GB', 'Blauw']\n",
      "['APPLE', 'iPhone', '8', 'Plus', '-', '64', 'GB', 'Goud']\n",
      "['APPLE', 'iPhone', 'X', '-', '256', 'GB', 'Grijs']\n",
      "['APPLE', 'iPhone', '6s', 'Plus', '-', '32', 'GB', 'Goud']\n",
      "['MOTOROLA', 'Moto', 'G6', 'Plus', '-', '64', 'GB', 'Dual-sim', 'Blauw']\n",
      "['HUAWEI', 'P', 'smart', '-', '32', 'GB', 'Dual-sim', 'Goud']\n",
      "['APPLE', 'iPhone', '8', 'Plus', '-', '64', 'GB', 'Grijs']\n",
      "['SONY', 'Xperia', '1', '-', '128', 'GB', 'Dual-sim', 'Zwart']\n",
      "['APPLE', 'iPhone', '11', '-', '128', 'GB', 'Geel']\n",
      "['SAMSUNG', 'Galaxy', 'Xcover', '-', '16', 'GB', 'Zwart']\n",
      "['ALCATEL', '3', '(2019)', '-', '64', 'GB', 'Dual-sim', 'Blauw/Paars']\n",
      "['NOKIA', '7.2', '-', '128', 'GB', 'Dual-sim', 'Groen']\n",
      "['ALCATEL', '3', '(2019)', '-', '32', 'GB', 'Dual-sim', 'Blauw-Paars']\n",
      "['SAMSUNG', 'Galaxy', 'A6+', '(2018)', '-', '32', 'GB', 'Dual-sim', 'Zwart']\n",
      "['MOTOROLA', 'One', 'Macro', '-', '64', 'GB', 'Dual-sim', 'Blauw']\n",
      "['ALCATEL', '3', '(2019)', '-', '32', 'GB', 'Dual-sim', 'Zwart/Blauw']\n",
      "['MOTOROLA', 'Moto', 'E6', 'Play', '-', '32', 'GB', 'Dual-sim', 'Zwart']\n",
      "['APPLE', 'iPhone', 'Xs', '-', '256', 'GB', 'Grijs']\n"
     ]
    }
   ],
   "source": [
    "products = driver.find_elements_by_class_name(\"product-wrapper\")\n",
    "title_2 = []\n",
    "\n",
    "for elem in products:\n",
    "    title_2.append(elem.find_element_by_css_selector(\"h2\"))\n",
    "    \n",
    "for elem in title_2:\n",
    "    elem = elem.text\n",
    "    elem = elem.split()\n",
    "    print(elem)\n",
    "\n",
    "for elem in title_2:\n",
    "    "
   ]
  },
  {
   "cell_type": "code",
   "execution_count": 6,
   "metadata": {},
   "outputs": [],
   "source": [
    "brands=[]\n",
    "models=[]\n",
    "colors=[]\n",
    "prices=[]\n",
    "storages=[]\n",
    "for elem in title_2:\n",
    "    elem = elem.text\n",
    "    #print(elem)\n",
    "    elem_splt = elem.split()\n",
    "    brands.append(elem_splt[0])\n",
    "    #print(elem)\n",
    "    for i,el in enumerate(elem_splt):\n",
    "        if \"GB\" in el:\n",
    "            storages.append(elem_splt[i-1])"
   ]
  },
  {
   "cell_type": "code",
   "execution_count": 7,
   "metadata": {},
   "outputs": [
    {
     "name": "stdout",
     "output_type": "stream",
     "text": [
      "['APPLE', 'HUAWEI', 'HUAWEI', 'RUGGEAR', 'NOKIA', 'SAMSUNG', 'BLACKBERRY', 'APPLE', 'APPLE', 'APPLE', 'MOTOROLA', 'HUAWEI', 'APPLE', 'SONY', 'APPLE', 'SAMSUNG', 'ALCATEL', 'NOKIA', 'ALCATEL', 'SAMSUNG', 'MOTOROLA', 'ALCATEL', 'MOTOROLA', 'APPLE']\n",
      "['64', '16', '16', '4', '16', '32', '64', '256', '32', '64', '32', '64', '128', '128', '16', '64', '128', '32', '32', '64', '32', '32', '256']\n",
      "[]\n"
     ]
    }
   ],
   "source": [
    "print(brands)\n",
    "print(storages)\n",
    "print(colors)"
   ]
  },
  {
   "cell_type": "code",
   "execution_count": 8,
   "metadata": {
    "scrolled": true
   },
   "outputs": [],
   "source": [
    "products = driver.find_element_by_class_name(\"products-list\")\n",
    "ps = products.find_elements_by_class_name(\"small\")\n",
    "\n",
    "spans=[]\n",
    "\n",
    "for p in ps:\n",
    "    spans.append(p.find_elements_by_css_selector(\"span\"))\n",
    "\n",
    "prices = []\n",
    "for p in ps:\n",
    "    span = p.find_elements_by_css_selector(\"span\")\n",
    "    price = []\n",
    "    for spn in span:\n",
    "        price.append(spn.text)\n",
    "    price = ''.join(price)\n",
    "    prices.append(price)"
   ]
  },
  {
   "cell_type": "code",
   "execution_count": 9,
   "metadata": {
    "scrolled": true
   },
   "outputs": [
    {
     "name": "stdout",
     "output_type": "stream",
     "text": [
      "64\n",
      "16\n",
      "16\n",
      "16\n",
      "1024\n",
      "32\n",
      "64\n",
      "256\n",
      "32\n",
      "64\n",
      "32\n",
      "64\n",
      "128\n",
      "128\n",
      "16\n",
      "64\n",
      "128\n",
      "32\n",
      "32\n",
      "64\n",
      "32\n",
      "32\n",
      "256\n"
     ]
    },
    {
     "data": {
      "text/plain": [
       "['64',\n",
       " '16',\n",
       " '16',\n",
       " '16',\n",
       " '1024',\n",
       " '32',\n",
       " '64',\n",
       " '256',\n",
       " '32',\n",
       " '64',\n",
       " '32',\n",
       " '64',\n",
       " '128',\n",
       " '128',\n",
       " '16',\n",
       " '64',\n",
       " '128',\n",
       " '32',\n",
       " '32',\n",
       " '64',\n",
       " '32',\n",
       " '32',\n",
       " '256']"
      ]
     },
     "execution_count": 9,
     "metadata": {},
     "output_type": "execute_result"
    }
   ],
   "source": [
    "storages=[]\n",
    "a=products.find_elements_by_class_name(\"product-details\")\n",
    "for b in a:\n",
    "    arr = b.text.split()\n",
    "    #print(arr)\n",
    "    \n",
    "    for el in arr:\n",
    "\n",
    "        if \"Geheugencapaciteit:\" in el:\n",
    "            i = arr.index(\"Geheugencapaciteit:\")\n",
    "            print(arr[i+1])\n",
    "            storages.append(arr[i+1])\n",
    "        else:\n",
    "            pass\n",
    "storages"
   ]
  },
  {
   "cell_type": "code",
   "execution_count": 10,
   "metadata": {
    "scrolled": true
   },
   "outputs": [
    {
     "name": "stdout",
     "output_type": "stream",
     "text": [
      "64\n",
      "16\n",
      "16\n",
      "16\n",
      "1024\n",
      "32\n",
      "64\n",
      "256\n",
      "32\n",
      "64\n",
      "32\n",
      "64\n",
      "128\n",
      "128\n",
      "16\n",
      "64\n",
      "128\n",
      "32\n",
      "32\n",
      "64\n",
      "32\n",
      "32\n",
      "256\n"
     ]
    },
    {
     "data": {
      "text/plain": [
       "24"
      ]
     },
     "execution_count": 10,
     "metadata": {},
     "output_type": "execute_result"
    }
   ],
   "source": [
    "storages=[]\n",
    "a=products.find_elements_by_class_name(\"product-details\")\n",
    "for i,b in enumerate(a):\n",
    "    arr = b.text.split()\n",
    "    #print(arr)\n",
    "        \n",
    "\n",
    "    if \"Geheugencapaciteit:\" in arr:\n",
    "        for el in arr:\n",
    "            if \"Geheugencapaciteit:\" in el:\n",
    "                print(arr[arr.index(el)+1])\n",
    "                storages.append(arr[arr.index(el)+1])\n",
    "    else:\n",
    "        arr=title_2[i].text.split()\n",
    "        for el in arr:\n",
    "           if \"GB\" in el:\n",
    "            storages.append(arr[arr.index(el)-1])\n",
    "            \n",
    "    \n",
    "    \n",
    "    \n",
    "len(storages)"
   ]
  },
  {
   "cell_type": "code",
   "execution_count": 19,
   "metadata": {},
   "outputs": [
    {
     "name": "stdout",
     "output_type": "stream",
     "text": [
      "https://www.mediamarkt.nl/nl/product/_apple-iphone-11-pro-max-64-gb-goud-1637556.html\n",
      "https://www.mediamarkt.nl/nl/product/_huawei-y7-2018-16-gb-dual-sim-blauw-1572935.html\n",
      "https://www.mediamarkt.nl/nl/product/_huawei-y7-2018-16-gb-dual-sim-zwart-1572932.html\n",
      "https://www.mediamarkt.nl/nl/product/_ruggear-rg160-4-gb-dual-sim-zwart-1586551.html\n",
      "https://www.mediamarkt.nl/nl/product/_nokia-3-2-16-gb-dual-sim-zwart-1616282.html\n",
      "https://www.mediamarkt.nl/nl/product/_samsung-galaxy-s10-plus-1-tb-dual-sim-wit-1604873.html\n",
      "https://www.mediamarkt.nl/nl/product/_blackberry-key2-le-32-gb-blauw-1593091.html\n",
      "https://www.mediamarkt.nl/nl/product/_apple-iphone-8-plus-64-gb-goud-1537128.html\n",
      "https://www.mediamarkt.nl/nl/product/_apple-iphone-x-256-gb-grijs-1537131.html\n",
      "https://www.mediamarkt.nl/nl/product/_apple-iphone-6s-plus-32-gb-goud-1473403.html\n",
      "https://www.mediamarkt.nl/nl/product/_motorola-moto-g6-plus-64-gb-dual-sim-blauw-1569748.html\n",
      "https://www.mediamarkt.nl/nl/product/_huawei-p-smart-32-gb-dual-sim-goud-1552918.html\n",
      "https://www.mediamarkt.nl/nl/product/_apple-iphone-8-plus-64-gb-grijs-1537124.html\n",
      "https://www.mediamarkt.nl/nl/product/_sony-xperia-1-128-gb-dual-sim-zwart-1619803.html\n",
      "https://www.mediamarkt.nl/nl/product/_apple-iphone-11-128-gb-geel-1637532.html\n",
      "https://www.mediamarkt.nl/nl/product/_samsung-galaxy-xcover-16-gb-zwart-1508106.html\n",
      "https://www.mediamarkt.nl/nl/product/_alcatel-3-2019-64-gb-dual-sim-blauw-paars-1621407.html\n",
      "https://www.mediamarkt.nl/nl/product/_nokia-7-2-128-gb-dual-sim-groen-1637688.html\n",
      "https://www.mediamarkt.nl/nl/product/_alcatel-3-2019-32-gb-dual-sim-blauw-paars-1621405.html\n",
      "https://www.mediamarkt.nl/nl/product/_samsung-galaxy-a6-2018-32-gb-dual-sim-zwart-1573445.html\n",
      "https://www.mediamarkt.nl/nl/product/_motorola-one-macro-64-gb-dual-sim-blauw-1643089.html\n",
      "https://www.mediamarkt.nl/nl/product/_alcatel-3-2019-32-gb-dual-sim-zwart-blauw-1621404.html\n",
      "https://www.mediamarkt.nl/nl/product/_motorola-moto-e6-play-32-gb-dual-sim-zwart-1643091.html\n",
      "https://www.mediamarkt.nl/nl/product/_apple-iphone-xs-256-gb-grijs-1591524.html\n"
     ]
    }
   ],
   "source": [
    "contents = products.find_elements_by_class_name(\"content\")\n",
    "h2s=[]\n",
    "hrefs=[]\n",
    "for el in contents:\n",
    "    h2s.append(el.find_elements_by_css_selector(\"h2\"))\n",
    "    \n",
    "for h2 in h2s:\n",
    "    for x in h2:\n",
    "        a = x.find_element_by_css_selector(\"a\")\n",
    "        href = a.get_attribute(\"href\")\n",
    "        hrefs.append(href)"
   ]
  },
  {
   "cell_type": "code",
   "execution_count": null,
   "metadata": {},
   "outputs": [],
   "source": []
  }
 ],
 "metadata": {
  "kernelspec": {
   "display_name": "Python 3",
   "language": "python",
   "name": "python3"
  },
  "language_info": {
   "codemirror_mode": {
    "name": "ipython",
    "version": 3
   },
   "file_extension": ".py",
   "mimetype": "text/x-python",
   "name": "python",
   "nbconvert_exporter": "python",
   "pygments_lexer": "ipython3",
   "version": "3.7.4"
  }
 },
 "nbformat": 4,
 "nbformat_minor": 2
}
